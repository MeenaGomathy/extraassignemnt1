{
 "cells": [
  {
   "cell_type": "code",
   "execution_count": 1,
   "id": "b381ca8c",
   "metadata": {},
   "outputs": [
    {
     "name": "stdout",
     "output_type": "stream",
     "text": [
      "Enter your Institution Name:HOPE AI\n",
      "Institution Name: HOPE AI\n"
     ]
    }
   ],
   "source": [
    "inst=input(\"Enter your Institution Name:\")\n",
    "print(\"Institution Name:\",inst)"
   ]
  },
  {
   "cell_type": "code",
   "execution_count": 1,
   "id": "1e4bbd0c",
   "metadata": {},
   "outputs": [
    {
     "name": "stdout",
     "output_type": "stream",
     "text": [
      "Enter your name:Meena\n",
      "Enter your Age:32\n",
      "Enter your school name:sara tucker\n",
      "Enter your Degree:Mphil\n"
     ]
    }
   ],
   "source": [
    "name=input(\"Enter your name:\")\n",
    "age=int(input(\"Enter your Age:\"))\n",
    "school=input(\"Enter your school name:\")\n",
    "degree=input(\"Enter your Degree:\")"
   ]
  },
  {
   "cell_type": "code",
   "execution_count": 3,
   "id": "0e4729ea",
   "metadata": {},
   "outputs": [
    {
     "name": "stdout",
     "output_type": "stream",
     "text": [
      "a= 43\n",
      "b= 34\n",
      "Addition= 77\n",
      "Subtraction= 9\n"
     ]
    }
   ],
   "source": [
    "a=43\n",
    "b=34\n",
    "Add=a+b\n",
    "Sub=a-b\n",
    "print(\"a=\", a)\n",
    "print(\"b=\", b)\n",
    "print(\"Addition=\", Add)\n",
    "print(\"Subtraction=\", Sub)"
   ]
  },
  {
   "cell_type": "code",
   "execution_count": 4,
   "id": "11c1b7f7",
   "metadata": {},
   "outputs": [
    {
     "name": "stdout",
     "output_type": "stream",
     "text": [
      "a= 76\n",
      "b= 31\n",
      "Multiply= 2356\n",
      "Float Division= 2.4516129032258065\n",
      "Floor Division= 2\n",
      "Modulo= 14\n"
     ]
    }
   ],
   "source": [
    "a=76\n",
    "b=31\n",
    "mul=a*b\n",
    "floatdiv=a/b\n",
    "floordiv=a//b\n",
    "modulo=a%b\n",
    "print(\"a=\", a)\n",
    "print(\"b=\", b)\n",
    "print(\"Multiply=\", mul)\n",
    "print(\"Float Division=\", floatdiv)\n",
    "print(\"Floor Division=\", floordiv)\n",
    "print(\"Modulo=\", modulo)"
   ]
  },
  {
   "cell_type": "code",
   "execution_count": 6,
   "id": "0c238eeb",
   "metadata": {},
   "outputs": [
    {
     "name": "stdout",
     "output_type": "stream",
     "text": [
      "c= 4\n",
      "d= 4\n",
      "Power of c and d= 256\n"
     ]
    }
   ],
   "source": [
    "c=4\n",
    "d=4\n",
    "print(\"c=\",c)\n",
    "print(\"d=\",d)\n",
    "print(\"Power of c and d=\", pow(c,d))"
   ]
  },
  {
   "cell_type": "code",
   "execution_count": null,
   "id": "2b8c8141",
   "metadata": {},
   "outputs": [],
   "source": []
  }
 ],
 "metadata": {
  "kernelspec": {
   "display_name": "Python 3 (ipykernel)",
   "language": "python",
   "name": "python3"
  },
  "language_info": {
   "codemirror_mode": {
    "name": "ipython",
    "version": 3
   },
   "file_extension": ".py",
   "mimetype": "text/x-python",
   "name": "python",
   "nbconvert_exporter": "python",
   "pygments_lexer": "ipython3",
   "version": "3.11.5"
  }
 },
 "nbformat": 4,
 "nbformat_minor": 5
}
